{
 "cells": [
  {
   "cell_type": "code",
   "execution_count": 1,
   "metadata": {},
   "outputs": [
    {
     "ename": "SyntaxError",
     "evalue": "invalid syntax (<ipython-input-1-2ef5a516215e>, line 1)",
     "output_type": "error",
     "traceback": [
      "\u001b[0;36m  File \u001b[0;32m\"<ipython-input-1-2ef5a516215e>\"\u001b[0;36m, line \u001b[0;32m1\u001b[0m\n\u001b[0;31m    PAH - Porter Adventist Hospital\u001b[0m\n\u001b[0m                         ^\u001b[0m\n\u001b[0;31mSyntaxError\u001b[0m\u001b[0;31m:\u001b[0m invalid syntax\n"
     ]
    }
   ],
   "source": [
    "PAH - Porter Adventist Hospital - 2525 S. Downing, Denver, CO 80210\n",
    "LAH - Littleton Adventist Hospital - 7700 S. Broadway, Littleton, CO 80122\n",
    "CRK or CRH - Castle Rock Adventist Hospital - 2350 Meadows Blvd, Castle Rock, CO 80109\n",
    "SAN or 144th - St. Anthony North 144 - 14300 Orchard Pkwy, Westminster, CO 80023\n",
    "SAH - St. Anthony Hospital\n",
    "Golden ED - Golden Neighborhood Health Center - 760 Warner Dr, Golden, CO  80401\n",
    "PKR - Parker Adventist Hospital - 9395 Crown Crest Boulevard, Parker, CO 80138\n",
    "CRED - Church Ranch ED - 7233 Church Ranch Blvd, Westminster, CO 80021\n",
    "STM - St. Thomas More - 1338 Phay Ave, Cañon City, CO 81212 \n",
    "Lakewood - Lakewood Emergency and Urgent Care - 3280 S. Wadsworth Blvd., Lakewood, CO 80227 \n",
    "Littleton West - Littleton West ED - 9670 W Coal Mine Ave Littleton, Colorado 80123 \n",
    "Highlands Ranch - Highlands Emergency and Urgent Care - 9205 S. Broadway, Highlands Ranch, CO 80129 \n",
    "Meridian - Meridian ER - 9949 S. Oswego St 100, Parker, CO  80134 \n",
    "\n",
    "\n",
    "hospital addresses -> https://www.centura.org/our-network/hospitals\n"
   ]
  },
  {
   "cell_type": "code",
   "execution_count": null,
   "metadata": {},
   "outputs": [],
   "source": []
  }
 ],
 "metadata": {
  "kernelspec": {
   "display_name": "Python 3",
   "language": "python",
   "name": "python3"
  },
  "language_info": {
   "codemirror_mode": {
    "name": "ipython",
    "version": 3
   },
   "file_extension": ".py",
   "mimetype": "text/x-python",
   "name": "python",
   "nbconvert_exporter": "python",
   "pygments_lexer": "ipython3",
   "version": "3.7.0"
  }
 },
 "nbformat": 4,
 "nbformat_minor": 2
}
